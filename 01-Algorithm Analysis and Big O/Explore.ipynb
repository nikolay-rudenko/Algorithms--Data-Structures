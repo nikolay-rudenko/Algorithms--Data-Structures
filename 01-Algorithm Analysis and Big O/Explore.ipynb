{
 "cells": [
  {
   "cell_type": "code",
   "execution_count": 1,
   "id": "b4b3ce28-0321-4342-bdae-de1180deb2d1",
   "metadata": {},
   "outputs": [],
   "source": [
    "def sum1(n):\n",
    "    final_sum = 0\n",
    "    \n",
    "    for x in range(n + 1):\n",
    "        final_sum += x\n",
    "    \n",
    "    return final_sum"
   ]
  },
  {
   "cell_type": "code",
   "execution_count": 5,
   "id": "90a9d57f-f08d-4ca4-8d22-e433ed94a93f",
   "metadata": {},
   "outputs": [
    {
     "data": {
      "text/plain": [
       "55"
      ]
     },
     "execution_count": 5,
     "metadata": {},
     "output_type": "execute_result"
    }
   ],
   "source": [
    "sum1(10)\n",
    "# 2"
   ]
  },
  {
   "cell_type": "code",
   "execution_count": 8,
   "id": "f4ea3dd0-753d-4223-8474-42edb8bfdfa2",
   "metadata": {},
   "outputs": [],
   "source": [
    "def sum2(n):\n",
    "    return (n*(n + 1))/2"
   ]
  },
  {
   "cell_type": "code",
   "execution_count": 9,
   "id": "6e7f4226-44c9-43e2-846d-66f36839c05c",
   "metadata": {},
   "outputs": [
    {
     "data": {
      "text/plain": [
       "55.0"
      ]
     },
     "execution_count": 9,
     "metadata": {},
     "output_type": "execute_result"
    }
   ],
   "source": [
    "sum2(10)"
   ]
  },
  {
   "cell_type": "code",
   "execution_count": 16,
   "id": "f73186c7-955f-43cc-b047-9e959283c5bc",
   "metadata": {},
   "outputs": [
    {
     "name": "stdout",
     "output_type": "stream",
     "text": [
      "4.57 µs ± 197 ns per loop (mean ± std. dev. of 7 runs, 100000 loops each)\n"
     ]
    }
   ],
   "source": [
    "%timeit sum1(100)"
   ]
  },
  {
   "cell_type": "code",
   "execution_count": 15,
   "id": "8821c7ba-c469-4ebe-8149-96152e336284",
   "metadata": {},
   "outputs": [
    {
     "name": "stdout",
     "output_type": "stream",
     "text": [
      "158 ns ± 8.03 ns per loop (mean ± std. dev. of 7 runs, 10000000 loops each)\n"
     ]
    }
   ],
   "source": [
    "%timeit sum2(100)"
   ]
  },
  {
   "cell_type": "code",
   "execution_count": 1,
   "id": "bf52b01f-1e58-41ee-bc98-3bd0dcb0a4be",
   "metadata": {},
   "outputs": [],
   "source": [
    "# this is not Big O, this is time comparison, but time is hardware depended metric"
   ]
  },
  {
   "cell_type": "markdown",
   "id": "730672de-0571-489b-b954-d525b003ac35",
   "metadata": {},
   "source": [
    "---\n",
    "Big O examples\n",
    "--------"
   ]
  },
  {
   "cell_type": "markdown",
   "id": "1fda83de-2ed7-400a-a43e-3e5509bc4e06",
   "metadata": {},
   "source": [
    "O(1)Constant\n",
    "------"
   ]
  },
  {
   "cell_type": "code",
   "execution_count": 5,
   "id": "5879fc59-4ae1-499c-beb2-370344aa9a81",
   "metadata": {},
   "outputs": [],
   "source": [
    "def func_constant(values):\n",
    "    print(values[0])"
   ]
  },
  {
   "cell_type": "code",
   "execution_count": 12,
   "id": "1da3a410-0a3d-4fe0-9375-9084b28657c4",
   "metadata": {},
   "outputs": [
    {
     "name": "stdout",
     "output_type": "stream",
     "text": [
      "1\n"
     ]
    }
   ],
   "source": [
    "lst = [1, 2, 3, 4, 5, 6]\n",
    "func_constant(lst)"
   ]
  },
  {
   "cell_type": "markdown",
   "id": "a9722f84-7a9d-4195-b080-bc20507b76ee",
   "metadata": {},
   "source": [
    "so every time it will print only constant \n",
    "value, only firt [0] value"
   ]
  },
  {
   "cell_type": "markdown",
   "id": "e1ad8650-054e-4d19-aae2-ca67ee50c28c",
   "metadata": {},
   "source": [
    "_______\n",
    "O(n)Linear\n",
    "------"
   ]
  },
  {
   "cell_type": "code",
   "execution_count": 10,
   "id": "bbef7ab3-c6f0-4caf-a32f-c23fbab33fd8",
   "metadata": {},
   "outputs": [],
   "source": [
    "def func_lin(lst):\n",
    "    \n",
    "    for val in lst:\n",
    "        print (val)"
   ]
  },
  {
   "cell_type": "code",
   "execution_count": 11,
   "id": "a00e89c3-9623-4a62-8654-bc0f54b174fd",
   "metadata": {},
   "outputs": [
    {
     "name": "stdout",
     "output_type": "stream",
     "text": [
      "1\n",
      "2\n",
      "3\n",
      "4\n",
      "5\n",
      "6\n"
     ]
    }
   ],
   "source": [
    "func_lin(lst)"
   ]
  },
  {
   "cell_type": "markdown",
   "id": "e93a8986-218b-4a8b-9957-e09e347e2cdd",
   "metadata": {},
   "source": [
    "it will scale liniary with n"
   ]
  },
  {
   "cell_type": "markdown",
   "id": "84b10b86-a5c4-47a8-adcf-8f9bee412f4a",
   "metadata": {},
   "source": [
    "O(n^2) Quadratic \n",
    "------------"
   ]
  },
  {
   "cell_type": "code",
   "execution_count": 14,
   "id": "09b1975c-d85f-4fdf-aedf-814690f906a0",
   "metadata": {},
   "outputs": [],
   "source": [
    "def fun_quad(lst):\n",
    "    \n",
    "    for item_1 in lst:\n",
    "        for item_2 in lst:\n",
    "            print(item_1, item_2)"
   ]
  },
  {
   "cell_type": "code",
   "execution_count": 15,
   "id": "ec671df3-f4b5-496a-a064-f0ee36d4fa8d",
   "metadata": {},
   "outputs": [],
   "source": [
    "lst = [1,2,3]"
   ]
  },
  {
   "cell_type": "code",
   "execution_count": 16,
   "id": "3c121f22-f5f1-4839-b7b7-a9aaedb4ecce",
   "metadata": {},
   "outputs": [
    {
     "name": "stdout",
     "output_type": "stream",
     "text": [
      "1 1\n",
      "1 2\n",
      "1 3\n",
      "2 1\n",
      "2 2\n",
      "2 3\n",
      "3 1\n",
      "3 2\n",
      "3 3\n"
     ]
    }
   ],
   "source": [
    "fun_quad(lst)"
   ]
  },
  {
   "cell_type": "code",
   "execution_count": 17,
   "id": "a1516874-8210-466c-a2c6-29ff96921c6e",
   "metadata": {},
   "outputs": [],
   "source": [
    "def print_once(lst): # O(n)\n",
    "    \n",
    "    for val in lst:\n",
    "        print(val)"
   ]
  },
  {
   "cell_type": "code",
   "execution_count": 18,
   "id": "5673b15e-0ebc-442e-a5b6-10944080677c",
   "metadata": {},
   "outputs": [
    {
     "name": "stdout",
     "output_type": "stream",
     "text": [
      "1\n",
      "2\n",
      "3\n"
     ]
    }
   ],
   "source": [
    "print_once(lst)"
   ]
  },
  {
   "cell_type": "code",
   "execution_count": 21,
   "id": "f36d8ef7-dd4b-448f-9d1c-ddb162e331b3",
   "metadata": {},
   "outputs": [],
   "source": [
    "def print_2(lst): # O(n)\n",
    "    \n",
    "    for val in lst:\n",
    "        print(val)\n",
    "    \n",
    "    for val in lst:\n",
    "        print (val)"
   ]
  },
  {
   "cell_type": "code",
   "execution_count": 23,
   "id": "dc9ed50e-8a6e-4fbf-99fe-463054f9722c",
   "metadata": {},
   "outputs": [
    {
     "name": "stdout",
     "output_type": "stream",
     "text": [
      "1\n",
      "2\n",
      "3\n",
      "1\n",
      "2\n",
      "3\n"
     ]
    }
   ],
   "source": [
    "print_2(lst)"
   ]
  },
  {
   "cell_type": "code",
   "execution_count": 42,
   "id": "bd58c8c5-41f3-411b-b87b-c2c9e1055f4e",
   "metadata": {},
   "outputs": [],
   "source": [
    "def comp(lst):\n",
    "    \n",
    "    print(lst[0]) # O(1)\n",
    "    \n",
    "    midpoit = int(len(lst)/2) # O(n/2) ... O(1/2 * n)\n",
    "    \n",
    "    for val in lst[:midpoit]:\n",
    "        print (val)\n",
    "    \n",
    "    for x in range(10): #O(10)\n",
    "        print ('word')"
   ]
  },
  {
   "cell_type": "code",
   "execution_count": 39,
   "id": "ed64c54a-9032-467a-a7cb-0467f55a080b",
   "metadata": {},
   "outputs": [
    {
     "name": "stdout",
     "output_type": "stream",
     "text": [
      "1\n",
      "1\n",
      "2\n",
      "word\n",
      "word\n",
      "word\n",
      "word\n",
      "word\n",
      "word\n",
      "word\n",
      "word\n",
      "word\n",
      "word\n"
     ]
    }
   ],
   "source": [
    "lst = [1, 2, 3, 4, 5]\n",
    "\n",
    "comp(lst)"
   ]
  },
  {
   "cell_type": "markdown",
   "id": "17d58fe0-4fcd-4214-bbb0-009699216efc",
   "metadata": {},
   "source": [
    "O(1 + n/2 + 10)\n",
    "-----\n",
    "O(n)\n",
    "-----"
   ]
  },
  {
   "cell_type": "markdown",
   "id": "e833da44-9bc2-49d2-9c48-b49ab39e2861",
   "metadata": {},
   "source": [
    "1) separate parts of algoritm\n",
    "2) put them all together O(1 + n/2 + 10)\n",
    "3) simplified when n grows arbitrarily lange"
   ]
  },
  {
   "cell_type": "code",
   "execution_count": 47,
   "id": "1bad4b77-de71-4006-829a-42af1e119f0e",
   "metadata": {},
   "outputs": [],
   "source": [
    "def matcher(lst, match):\n",
    "    \n",
    "    for item in lst:\n",
    "        if item == match:\n",
    "            return True\n",
    "    return False\n"
   ]
  },
  {
   "cell_type": "code",
   "execution_count": 44,
   "id": "945dcc8d-39e6-4c40-8736-497ea17348c4",
   "metadata": {},
   "outputs": [
    {
     "data": {
      "text/plain": [
       "True"
      ]
     },
     "execution_count": 44,
     "metadata": {},
     "output_type": "execute_result"
    }
   ],
   "source": [
    "matcher(lst, 1) # best case O(1) constant"
   ]
  },
  {
   "cell_type": "code",
   "execution_count": 48,
   "id": "a71d9639-baa0-419d-84ce-00000314c1a2",
   "metadata": {},
   "outputs": [
    {
     "data": {
      "text/plain": [
       "False"
      ]
     },
     "execution_count": 48,
     "metadata": {},
     "output_type": "execute_result"
    }
   ],
   "source": [
    "matcher(lst, 11) # worce case O(n)"
   ]
  },
  {
   "cell_type": "markdown",
   "id": "ba743fed-aecd-402d-8ac4-3ccf25be82e2",
   "metadata": {},
   "source": [
    "Space complexity \n",
    "--------"
   ]
  },
  {
   "cell_type": "code",
   "execution_count": 49,
   "id": "ab40ef98-e875-4c3f-8f24-13d5cf6738d4",
   "metadata": {},
   "outputs": [],
   "source": [
    "def create_list(n):\n",
    "    \n",
    "    new_list = []\n",
    "    \n",
    "    for num in range(n):\n",
    "        new_list.append('new')\n",
    "    \n",
    "    return new_list"
   ]
  },
  {
   "cell_type": "code",
   "execution_count": 50,
   "id": "d82b26ac-bf1b-4b21-b676-b923c9471572",
   "metadata": {},
   "outputs": [
    {
     "data": {
      "text/plain": [
       "['new', 'new', 'new', 'new', 'new']"
      ]
     },
     "execution_count": 50,
     "metadata": {},
     "output_type": "execute_result"
    }
   ],
   "source": [
    "create_list(5)"
   ]
  },
  {
   "cell_type": "code",
   "execution_count": 54,
   "id": "b3b5a6f2-119d-4fbe-89db-4e9d8255bd85",
   "metadata": {},
   "outputs": [],
   "source": [
    "def printer(n):\n",
    "    \n",
    "    for x in range(10): # Time complexity 0(n)\n",
    "        print('Hello world') # Space complexity O(1)"
   ]
  },
  {
   "cell_type": "code",
   "execution_count": 53,
   "id": "5aec5b79-8081-4ff4-a950-81e63fe3edc5",
   "metadata": {},
   "outputs": [
    {
     "name": "stdout",
     "output_type": "stream",
     "text": [
      "Hello world\n",
      "Hello world\n",
      "Hello world\n",
      "Hello world\n",
      "Hello world\n",
      "Hello world\n",
      "Hello world\n",
      "Hello world\n",
      "Hello world\n",
      "Hello world\n"
     ]
    }
   ],
   "source": [
    "printer(10) # linier for time complexity "
   ]
  },
  {
   "cell_type": "code",
   "execution_count": null,
   "id": "55aa9e4e-825f-41fb-8dc1-63f1aff06241",
   "metadata": {},
   "outputs": [],
   "source": []
  },
  {
   "cell_type": "code",
   "execution_count": null,
   "id": "427f64b0-5ab8-4efe-98e6-00956375d24b",
   "metadata": {},
   "outputs": [],
   "source": []
  },
  {
   "cell_type": "code",
   "execution_count": null,
   "id": "52b1abdf-6e46-4346-92e9-e64327b69d00",
   "metadata": {},
   "outputs": [],
   "source": []
  }
 ],
 "metadata": {
  "kernelspec": {
   "display_name": "Python 3 (ipykernel)",
   "language": "python",
   "name": "python3"
  },
  "language_info": {
   "codemirror_mode": {
    "name": "ipython",
    "version": 3
   },
   "file_extension": ".py",
   "mimetype": "text/x-python",
   "name": "python",
   "nbconvert_exporter": "python",
   "pygments_lexer": "ipython3",
   "version": "3.9.2"
  }
 },
 "nbformat": 4,
 "nbformat_minor": 5
}
